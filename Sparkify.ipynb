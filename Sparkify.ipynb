{
 "cells": [
  {
   "cell_type": "markdown",
   "metadata": {},
   "source": [
    "# Sparkify Project Workspace\n",
    "This workspace contains a tiny subset (128MB) of the full dataset available (12GB). Feel free to use this workspace to build your project, or to explore a smaller subset with Spark before deploying your cluster on the cloud. Instructions for setting up your Spark cluster is included in the last lesson of the Extracurricular Spark Course content.\n",
    "\n",
    "You can follow the steps below to guide your data analysis and model building portion of this project."
   ]
  },
  {
   "cell_type": "code",
   "execution_count": 1,
   "metadata": {},
   "outputs": [],
   "source": [
    "# import libraries\n",
    "from pyspark.sql import SparkSession\n",
    "from pyspark.sql.functions import avg, col, concat, desc, explode, lit, min, max, split, udf, isnull,from_unixtime,instr,when\n",
    "from pyspark.sql.functions import pandas_udf, PandasUDFType\n",
    "\n",
    "from pyspark.sql.types import IntegerType, ArrayType, FloatType, DoubleType, Row, DateType\n",
    "from pyspark.ml.linalg import DenseVector, SparseVector\n",
    "\n",
    "from pyspark.ml import Pipeline\n",
    "from pyspark.ml.classification import DecisionTreeClassifier,LogisticRegression, RandomForestClassifier, GBTClassifier\n",
    "from pyspark.ml.evaluation import MulticlassClassificationEvaluator,BinaryClassificationEvaluator\n",
    "from pyspark.ml.feature import CountVectorizer,MaxAbsScaler, IDF, Normalizer, PCA, RegexTokenizer,VectorIndexer, StandardScaler, StopWordsRemover, StringIndexer, VectorAssembler\n",
    "from pyspark.ml.tuning import CrossValidator, ParamGridBuilder\n",
    "\n",
    "import pandas as pd\n",
    "import matplotlib.pyplot as plt\n",
    "import seaborn as sns\n",
    "%matplotlib inline\n",
    "import datetime\n",
    "import os.path\n",
    "from pyspark.ml.pipeline import PipelineModel"
   ]
  },
  {
   "cell_type": "code",
   "execution_count": 2,
   "metadata": {},
   "outputs": [],
   "source": [
    "# create a Spark session\n",
    "spark = SparkSession \\\n",
    "    .builder \\\n",
    "    .appName(\"Spark\") \\\n",
    "    .getOrCreate()"
   ]
  },
  {
   "cell_type": "markdown",
   "metadata": {},
   "source": [
    "# Load and Clean Dataset\n",
    "In this workspace, the mini-dataset file is `mini_sparkify_event_data.json`. Load and clean the dataset, checking for invalid or missing data - for example, records without userids or sessionids. "
   ]
  },
  {
   "cell_type": "code",
   "execution_count": 3,
   "metadata": {},
   "outputs": [
    {
     "name": "stdout",
     "output_type": "stream",
     "text": [
      "+----------------+---------+---------+------+-------------+--------+---------+-----+--------------------+------+--------+-------------+---------+--------------------+------+-------------+--------------------+------+\n",
      "|          artist|     auth|firstName|gender|itemInSession|lastName|   length|level|            location|method|    page| registration|sessionId|                song|status|           ts|           userAgent|userId|\n",
      "+----------------+---------+---------+------+-------------+--------+---------+-----+--------------------+------+--------+-------------+---------+--------------------+------+-------------+--------------------+------+\n",
      "|  Martha Tilston|Logged In|    Colin|     M|           50| Freeman|277.89016| paid|     Bakersfield, CA|   PUT|NextSong|1538173362000|       29|           Rockpools|   200|1538352117000|Mozilla/5.0 (Wind...|    30|\n",
      "|Five Iron Frenzy|Logged In|    Micah|     M|           79|    Long|236.09424| free|Boston-Cambridge-...|   PUT|NextSong|1538331630000|        8|              Canada|   200|1538352180000|\"Mozilla/5.0 (Win...|     9|\n",
      "|    Adam Lambert|Logged In|    Colin|     M|           51| Freeman| 282.8273| paid|     Bakersfield, CA|   PUT|NextSong|1538173362000|       29|   Time For Miracles|   200|1538352394000|Mozilla/5.0 (Wind...|    30|\n",
      "|          Enigma|Logged In|    Micah|     M|           80|    Long|262.71302| free|Boston-Cambridge-...|   PUT|NextSong|1538331630000|        8|Knocking On Forbi...|   200|1538352416000|\"Mozilla/5.0 (Win...|     9|\n",
      "|       Daft Punk|Logged In|    Colin|     M|           52| Freeman|223.60771| paid|     Bakersfield, CA|   PUT|NextSong|1538173362000|       29|Harder Better Fas...|   200|1538352676000|Mozilla/5.0 (Wind...|    30|\n",
      "+----------------+---------+---------+------+-------------+--------+---------+-----+--------------------+------+--------+-------------+---------+--------------------+------+-------------+--------------------+------+\n",
      "only showing top 5 rows\n",
      "\n"
     ]
    }
   ],
   "source": [
    "path = \"mini_sparkify_event_data.json\"\n",
    "df = spark.read.json(path)\n",
    "df.persist()\n",
    "df.show(5)"
   ]
  },
  {
   "cell_type": "code",
   "execution_count": 4,
   "metadata": {},
   "outputs": [
    {
     "name": "stdout",
     "output_type": "stream",
     "text": [
      "286500\n",
      "278154\n"
     ]
    }
   ],
   "source": [
    "# clean records without userids or sessionids\n",
    "print(df.count())\n",
    "df = df.dropna(how = \"any\",subset = [\"userId\", \"sessionId\"])\n",
    "df = df.filter(df.userId!='')\n",
    "print(df.count())\n",
    "# df.show(5)"
   ]
  },
  {
   "cell_type": "markdown",
   "metadata": {},
   "source": [
    "# Exploratory Data Analysis\n",
    "When you're working with the full dataset, perform EDA by loading a small subset of the data and doing basic manipulations within Spark. In this workspace, you are already provided a small subset of data you can explore.\n",
    "\n",
    "### Define Churn\n",
    "\n",
    "Once you've done some preliminary analysis, create a column `Churn` to use as the label for your model. I suggest using the `Cancellation Confirmation` events to define your churn, which happen for both paid and free users. As a bonus task, you can also look into the `Downgrade` events.\n",
    "\n",
    "### Explore Data\n",
    "Once you've defined churn, perform some exploratory data analysis to observe the behavior for users who stayed vs users who churned. You can start by exploring aggregates on these two groups of users, observing how much of a specific action they experienced per a certain time unit or number of songs played."
   ]
  },
  {
   "cell_type": "code",
   "execution_count": 5,
   "metadata": {},
   "outputs": [],
   "source": [
    "# churn_df = df.filter((df.page==\"Cancellation Confirmation\")&(df.level.isin(\"free\",\"paid\")))\n",
    "churn_df = df.filter((df.page==\"Cancellation Confirmation\")&(df.level.isin(\"free\",\"paid\"))).select(\"userId\").distinct()\n",
    "# churn_users\n",
    "# print(churn_df.show(52))\n",
    "df=df.withColumn(\"churn\",df.userId.isin([(i[0]) for i in churn_df.collect()]).cast(\"int\"))\n",
    "df=df.withColumn(\"date_time\",from_unixtime(df.ts/1000))"
   ]
  },
  {
   "cell_type": "code",
   "execution_count": 6,
   "metadata": {},
   "outputs": [
    {
     "data": {
      "text/plain": [
       "52"
      ]
     },
     "execution_count": 6,
     "metadata": {},
     "output_type": "execute_result"
    }
   ],
   "source": [
    "df.filter(df.churn==1).select(\"userId\").distinct().count()"
   ]
  },
  {
   "cell_type": "markdown",
   "metadata": {},
   "source": [
    "Visualization: Churn group vs non chrun group by user level."
   ]
  },
  {
   "cell_type": "code",
   "execution_count": 7,
   "metadata": {},
   "outputs": [
    {
     "name": "stdout",
     "output_type": "stream",
     "text": [
      "+-----+------+-----+\n",
      "|churn|userId|level|\n",
      "+-----+------+-----+\n",
      "|    0|    20| free|\n",
      "|    0|    78| free|\n",
      "|    0|200003| paid|\n",
      "|    0|    39| free|\n",
      "|    1|   122| free|\n",
      "+-----+------+-----+\n",
      "only showing top 5 rows\n",
      "\n"
     ]
    }
   ],
   "source": [
    "c_df= df.select([\"churn\",\"userId\",\"level\"]).distinct()\n",
    "c_df.show(5)"
   ]
  },
  {
   "cell_type": "code",
   "execution_count": 8,
   "metadata": {},
   "outputs": [
    {
     "data": {
      "text/plain": [
       "<matplotlib.axes._subplots.AxesSubplot at 0x7fca61628898>"
      ]
     },
     "execution_count": 8,
     "metadata": {},
     "output_type": "execute_result"
    },
    {
     "data": {
      "image/png": "[encoded data removed]",
      "text/plain": [
       "<matplotlib.figure.Figure at 0x7fca91bd7198>"
      ]
     },
     "metadata": {
      "needs_background": "light"
     },
     "output_type": "display_data"
    }
   ],
   "source": [
    "# churn users by level\n",
    "df_plot = c_df.groupby([\"churn\", \"level\"]).count().toPandas()\n",
    "sns.barplot(x='churn', y='count', hue='level', data=df_plot)"
   ]
  },
  {
   "cell_type": "markdown",
   "metadata": {},
   "source": [
    "Visualization: Distribution of free and paid users between churn group and non churn group, we cannot find significant difference in between.  "
   ]
  },
  {
   "cell_type": "code",
   "execution_count": 9,
   "metadata": {},
   "outputs": [
    {
     "data": {
      "text/html": [
       "<div>\n",
       "<style scoped>\n",
       "    .dataframe tbody tr th:only-of-type {\n",
       "        vertical-align: middle;\n",
       "    }\n",
       "\n",
       "    .dataframe tbody tr th {\n",
       "        vertical-align: top;\n",
       "    }\n",
       "\n",
       "    .dataframe thead th {\n",
       "        text-align: right;\n",
       "    }\n",
       "</style>\n",
       "<table border=\"1\" class=\"dataframe\">\n",
       "  <thead>\n",
       "    <tr style=\"text-align: right;\">\n",
       "      <th></th>\n",
       "      <th>page</th>\n",
       "      <th>churn</th>\n",
       "      <th>count_s</th>\n",
       "      <th>count</th>\n",
       "      <th>prop</th>\n",
       "    </tr>\n",
       "  </thead>\n",
       "  <tbody>\n",
       "    <tr>\n",
       "      <th>0</th>\n",
       "      <td>About</td>\n",
       "      <td>0</td>\n",
       "      <td>439</td>\n",
       "      <td>495</td>\n",
       "      <td>0.886869</td>\n",
       "    </tr>\n",
       "    <tr>\n",
       "      <th>1</th>\n",
       "      <td>About</td>\n",
       "      <td>1</td>\n",
       "      <td>56</td>\n",
       "      <td>495</td>\n",
       "      <td>0.113131</td>\n",
       "    </tr>\n",
       "    <tr>\n",
       "      <th>2</th>\n",
       "      <td>Add Friend</td>\n",
       "      <td>0</td>\n",
       "      <td>3641</td>\n",
       "      <td>4277</td>\n",
       "      <td>0.851298</td>\n",
       "    </tr>\n",
       "    <tr>\n",
       "      <th>3</th>\n",
       "      <td>Add Friend</td>\n",
       "      <td>1</td>\n",
       "      <td>636</td>\n",
       "      <td>4277</td>\n",
       "      <td>0.148702</td>\n",
       "    </tr>\n",
       "    <tr>\n",
       "      <th>4</th>\n",
       "      <td>Add to Playlist</td>\n",
       "      <td>0</td>\n",
       "      <td>5488</td>\n",
       "      <td>6526</td>\n",
       "      <td>0.840944</td>\n",
       "    </tr>\n",
       "    <tr>\n",
       "      <th>5</th>\n",
       "      <td>Add to Playlist</td>\n",
       "      <td>1</td>\n",
       "      <td>1038</td>\n",
       "      <td>6526</td>\n",
       "      <td>0.159056</td>\n",
       "    </tr>\n",
       "    <tr>\n",
       "      <th>6</th>\n",
       "      <td>Cancel</td>\n",
       "      <td>1</td>\n",
       "      <td>52</td>\n",
       "      <td>52</td>\n",
       "      <td>1.000000</td>\n",
       "    </tr>\n",
       "    <tr>\n",
       "      <th>7</th>\n",
       "      <td>Cancellation Confirmation</td>\n",
       "      <td>1</td>\n",
       "      <td>52</td>\n",
       "      <td>52</td>\n",
       "      <td>1.000000</td>\n",
       "    </tr>\n",
       "    <tr>\n",
       "      <th>8</th>\n",
       "      <td>Downgrade</td>\n",
       "      <td>1</td>\n",
       "      <td>337</td>\n",
       "      <td>2055</td>\n",
       "      <td>0.163990</td>\n",
       "    </tr>\n",
       "    <tr>\n",
       "      <th>9</th>\n",
       "      <td>Downgrade</td>\n",
       "      <td>0</td>\n",
       "      <td>1718</td>\n",
       "      <td>2055</td>\n",
       "      <td>0.836010</td>\n",
       "    </tr>\n",
       "    <tr>\n",
       "      <th>10</th>\n",
       "      <td>Error</td>\n",
       "      <td>0</td>\n",
       "      <td>220</td>\n",
       "      <td>252</td>\n",
       "      <td>0.873016</td>\n",
       "    </tr>\n",
       "    <tr>\n",
       "      <th>11</th>\n",
       "      <td>Error</td>\n",
       "      <td>1</td>\n",
       "      <td>32</td>\n",
       "      <td>252</td>\n",
       "      <td>0.126984</td>\n",
       "    </tr>\n",
       "    <tr>\n",
       "      <th>12</th>\n",
       "      <td>Help</td>\n",
       "      <td>1</td>\n",
       "      <td>239</td>\n",
       "      <td>1454</td>\n",
       "      <td>0.164374</td>\n",
       "    </tr>\n",
       "    <tr>\n",
       "      <th>13</th>\n",
       "      <td>Help</td>\n",
       "      <td>0</td>\n",
       "      <td>1215</td>\n",
       "      <td>1454</td>\n",
       "      <td>0.835626</td>\n",
       "    </tr>\n",
       "    <tr>\n",
       "      <th>14</th>\n",
       "      <td>Home</td>\n",
       "      <td>1</td>\n",
       "      <td>1672</td>\n",
       "      <td>10082</td>\n",
       "      <td>0.165840</td>\n",
       "    </tr>\n",
       "    <tr>\n",
       "      <th>15</th>\n",
       "      <td>Home</td>\n",
       "      <td>0</td>\n",
       "      <td>8410</td>\n",
       "      <td>10082</td>\n",
       "      <td>0.834160</td>\n",
       "    </tr>\n",
       "    <tr>\n",
       "      <th>16</th>\n",
       "      <td>Logout</td>\n",
       "      <td>1</td>\n",
       "      <td>553</td>\n",
       "      <td>3226</td>\n",
       "      <td>0.171420</td>\n",
       "    </tr>\n",
       "    <tr>\n",
       "      <th>17</th>\n",
       "      <td>Logout</td>\n",
       "      <td>0</td>\n",
       "      <td>2673</td>\n",
       "      <td>3226</td>\n",
       "      <td>0.828580</td>\n",
       "    </tr>\n",
       "    <tr>\n",
       "      <th>18</th>\n",
       "      <td>NextSong</td>\n",
       "      <td>0</td>\n",
       "      <td>191714</td>\n",
       "      <td>228108</td>\n",
       "      <td>0.840453</td>\n",
       "    </tr>\n",
       "    <tr>\n",
       "      <th>19</th>\n",
       "      <td>NextSong</td>\n",
       "      <td>1</td>\n",
       "      <td>36394</td>\n",
       "      <td>228108</td>\n",
       "      <td>0.159547</td>\n",
       "    </tr>\n",
       "    <tr>\n",
       "      <th>20</th>\n",
       "      <td>Roll Advert</td>\n",
       "      <td>1</td>\n",
       "      <td>967</td>\n",
       "      <td>3933</td>\n",
       "      <td>0.245868</td>\n",
       "    </tr>\n",
       "    <tr>\n",
       "      <th>21</th>\n",
       "      <td>Roll Advert</td>\n",
       "      <td>0</td>\n",
       "      <td>2966</td>\n",
       "      <td>3933</td>\n",
       "      <td>0.754132</td>\n",
       "    </tr>\n",
       "    <tr>\n",
       "      <th>22</th>\n",
       "      <td>Save Settings</td>\n",
       "      <td>0</td>\n",
       "      <td>252</td>\n",
       "      <td>310</td>\n",
       "      <td>0.812903</td>\n",
       "    </tr>\n",
       "    <tr>\n",
       "      <th>23</th>\n",
       "      <td>Save Settings</td>\n",
       "      <td>1</td>\n",
       "      <td>58</td>\n",
       "      <td>310</td>\n",
       "      <td>0.187097</td>\n",
       "    </tr>\n",
       "    <tr>\n",
       "      <th>24</th>\n",
       "      <td>Settings</td>\n",
       "      <td>1</td>\n",
       "      <td>270</td>\n",
       "      <td>1514</td>\n",
       "      <td>0.178336</td>\n",
       "    </tr>\n",
       "    <tr>\n",
       "      <th>25</th>\n",
       "      <td>Settings</td>\n",
       "      <td>0</td>\n",
       "      <td>1244</td>\n",
       "      <td>1514</td>\n",
       "      <td>0.821664</td>\n",
       "    </tr>\n",
       "    <tr>\n",
       "      <th>26</th>\n",
       "      <td>Submit Downgrade</td>\n",
       "      <td>0</td>\n",
       "      <td>54</td>\n",
       "      <td>63</td>\n",
       "      <td>0.857143</td>\n",
       "    </tr>\n",
       "    <tr>\n",
       "      <th>27</th>\n",
       "      <td>Submit Downgrade</td>\n",
       "      <td>1</td>\n",
       "      <td>9</td>\n",
       "      <td>63</td>\n",
       "      <td>0.142857</td>\n",
       "    </tr>\n",
       "    <tr>\n",
       "      <th>28</th>\n",
       "      <td>Submit Upgrade</td>\n",
       "      <td>1</td>\n",
       "      <td>32</td>\n",
       "      <td>159</td>\n",
       "      <td>0.201258</td>\n",
       "    </tr>\n",
       "    <tr>\n",
       "      <th>29</th>\n",
       "      <td>Submit Upgrade</td>\n",
       "      <td>0</td>\n",
       "      <td>127</td>\n",
       "      <td>159</td>\n",
       "      <td>0.798742</td>\n",
       "    </tr>\n",
       "    <tr>\n",
       "      <th>30</th>\n",
       "      <td>Thumbs Down</td>\n",
       "      <td>0</td>\n",
       "      <td>2050</td>\n",
       "      <td>2546</td>\n",
       "      <td>0.805185</td>\n",
       "    </tr>\n",
       "    <tr>\n",
       "      <th>31</th>\n",
       "      <td>Thumbs Down</td>\n",
       "      <td>1</td>\n",
       "      <td>496</td>\n",
       "      <td>2546</td>\n",
       "      <td>0.194815</td>\n",
       "    </tr>\n",
       "    <tr>\n",
       "      <th>32</th>\n",
       "      <td>Thumbs Up</td>\n",
       "      <td>0</td>\n",
       "      <td>10692</td>\n",
       "      <td>12551</td>\n",
       "      <td>0.851884</td>\n",
       "    </tr>\n",
       "    <tr>\n",
       "      <th>33</th>\n",
       "      <td>Thumbs Up</td>\n",
       "      <td>1</td>\n",
       "      <td>1859</td>\n",
       "      <td>12551</td>\n",
       "      <td>0.148116</td>\n",
       "    </tr>\n",
       "    <tr>\n",
       "      <th>34</th>\n",
       "      <td>Upgrade</td>\n",
       "      <td>1</td>\n",
       "      <td>112</td>\n",
       "      <td>499</td>\n",
       "      <td>0.224449</td>\n",
       "    </tr>\n",
       "    <tr>\n",
       "      <th>35</th>\n",
       "      <td>Upgrade</td>\n",
       "      <td>0</td>\n",
       "      <td>387</td>\n",
       "      <td>499</td>\n",
       "      <td>0.775551</td>\n",
       "    </tr>\n",
       "  </tbody>\n",
       "</table>\n",
       "</div>"
      ],
      "text/plain": [
       "                         page  churn  count_s   count      prop\n",
       "0                       About      0      439     495  0.886869\n",
       "1                       About      1       56     495  0.113131\n",
       "2                  Add Friend      0     3641    4277  0.851298\n",
       "3                  Add Friend      1      636    4277  0.148702\n",
       "4             Add to Playlist      0     5488    6526  0.840944\n",
       "5             Add to Playlist      1     1038    6526  0.159056\n",
       "6                      Cancel      1       52      52  1.000000\n",
       "7   Cancellation Confirmation      1       52      52  1.000000\n",
       "8                   Downgrade      1      337    2055  0.163990\n",
       "9                   Downgrade      0     1718    2055  0.836010\n",
       "10                      Error      0      220     252  0.873016\n",
       "11                      Error      1       32     252  0.126984\n",
       "12                       Help      1      239    1454  0.164374\n",
       "13                       Help      0     1215    1454  0.835626\n",
       "14                       Home      1     1672   10082  0.165840\n",
       "15                       Home      0     8410   10082  0.834160\n",
       "16                     Logout      1      553    3226  0.171420\n",
       "17                     Logout      0     2673    3226  0.828580\n",
       "18                   NextSong      0   191714  228108  0.840453\n",
       "19                   NextSong      1    36394  228108  0.159547\n",
       "20                Roll Advert      1      967    3933  0.245868\n",
       "21                Roll Advert      0     2966    3933  0.754132\n",
       "22              Save Settings      0      252     310  0.812903\n",
       "23              Save Settings      1       58     310  0.187097\n",
       "24                   Settings      1      270    1514  0.178336\n",
       "25                   Settings      0     1244    1514  0.821664\n",
       "26           Submit Downgrade      0       54      63  0.857143\n",
       "27           Submit Downgrade      1        9      63  0.142857\n",
       "28             Submit Upgrade      1       32     159  0.201258\n",
       "29             Submit Upgrade      0      127     159  0.798742\n",
       "30                Thumbs Down      0     2050    2546  0.805185\n",
       "31                Thumbs Down      1      496    2546  0.194815\n",
       "32                  Thumbs Up      0    10692   12551  0.851884\n",
       "33                  Thumbs Up      1     1859   12551  0.148116\n",
       "34                    Upgrade      1      112     499  0.224449\n",
       "35                    Upgrade      0      387     499  0.775551"
      ]
     },
     "execution_count": 9,
     "metadata": {},
     "output_type": "execute_result"
    }
   ],
   "source": [
    "# churn_df = df.filter(df.churn==1).count()\n",
    "# non_churn_df = df.filter(df.churn==0).count()\n",
    "df_temp1 = df.groupby([\"churn\", \"page\"]).count().withColumnRenamed(\"count\",\"count_s\")\n",
    "df_temp2 = df.groupby([\"page\"]).count()\n",
    "df_temp1=df_temp1.join(df_temp2, [\"page\"], \"left\")\n",
    "df_temp1 = df_temp1.withColumn(\"prop\",df_temp1[\"count_s\"]/df_temp1[\"count\"]).sort(\"page\").toPandas()\n",
    "df_temp1\n",
    "# .toPandas()\n",
    "# vid"
   ]
  },
  {
   "cell_type": "code",
   "execution_count": 10,
   "metadata": {},
   "outputs": [
    {
     "data": {
      "image/png": "[encoded data removed]",
      "text/plain": [
       "<matplotlib.figure.Figure at 0x7fca60b24438>"
      ]
     },
     "metadata": {
      "needs_background": "light"
     },
     "output_type": "display_data"
    }
   ],
   "source": [
    "fig = plt.figure(figsize=(12,8))\n",
    "plt.xticks(rotation=-90)\n",
    "sns.barplot(x='page', y='count_s', hue='churn', data=df_temp1)\n",
    "plt.show()\n",
    "# fig = plt.figure(figsize=(12,4))\n",
    "# plt.xticks(rotation=-90)\n",
    "# sns.barplot(x='page', y='prop', hue='churn', data=df_temp1)\n",
    "# plt.show()"
   ]
  },
  {
   "cell_type": "markdown",
   "metadata": {},
   "source": [
    "Visualization: By Analyzing the Page type which user had interaction before between churn group and non churn group.From page information, we can find churn users did not like access 'Thumbs up','Home','Add to Playlist','Next Song' usually. "
   ]
  },
  {
   "cell_type": "code",
   "execution_count": 11,
   "metadata": {},
   "outputs": [
    {
     "data": {
      "image/png": "[encoded data removed]",
      "text/plain": [
       "<matplotlib.figure.Figure at 0x7fca60ad6358>"
      ]
     },
     "metadata": {
      "needs_background": "light"
     },
     "output_type": "display_data"
    }
   ],
   "source": [
    "df_temp3 = df.select([\"churn\",\"userId\",\"song\"]).distinct().where(df[\"song\"].isNotNull()).groupby([\"churn\",\"userId\"]).count().select([\"churn\",\"count\"]).toPandas()\n",
    "# df.select([\"churn\",\"userId\",\"song\"]).distinct().where(df[\"song\"].isNotNull()).count()\n",
    "# df.select(\"userId\").distinct().count()\n",
    "# df.select([\"churn\",\"userId\",\"song\"]).distinct().where(df.song.isNotNull()).show(20)\n",
    "# df.select([\"churn\",\"userId\",\"song\"]).distinct().where(df.userId==4).show(20)\n",
    "# df.select([\"churn\",\"userId\",\"song\"]).distinct().where(df[\"song\"].isNotNull()).show(20)\n",
    "# df_temp3.show(5)\n",
    "plt.figure(figsize=(10,10))\n",
    "ax1 = plt.subplot(211)\n",
    "plt.hist(df_temp3[df_temp3['churn']==True]['count'],color=\"Red\")\n",
    "plt.xlabel('Churn group')  \n",
    "plt.ylabel('Number of songs per user')\n",
    "ax2 = plt.subplot(212)\n",
    "plt.hist(df_temp3[df_temp3['churn']==False]['count'],color=\"Blue\")\n",
    "plt.xlabel('Non churn group')  \n",
    "plt.ylabel('Number of songs per user')\n",
    "plt.show()"
   ]
  },
  {
   "cell_type": "markdown",
   "metadata": {},
   "source": [
    "Visualization: Played number of songs per user between churn group and non churn group.We could find the churn group only played less than 18 songs usually, non churn group played more than 30 songs usually."
   ]
  },
  {
   "cell_type": "markdown",
   "metadata": {},
   "source": [
    "# Feature Engineering\n",
    "Once you've familiarized yourself with the data, build out the features you find promising to train your model on. To work with the full dataset, you can follow the following steps.\n",
    "- Write a script to extract the necessary features from the smaller subset of data\n",
    "- Ensure that your script is scalable, using the best practices discussed in Lesson 3\n",
    "- Try your script on the full data set, debugging your script if necessary\n",
    "\n",
    "If you are working in the classroom workspace, you can just extract features based on the small subset of data contained here. Be sure to transfer over this work to the larger dataset when you work on your Spark cluster."
   ]
  },
  {
   "cell_type": "code",
   "execution_count": 12,
   "metadata": {},
   "outputs": [],
   "source": [
    ""
   ]
  },
  {
   "cell_type": "code",
   "execution_count": 13,
   "metadata": {},
   "outputs": [],
   "source": [
    ""
   ]
  },
  {
   "cell_type": "code",
   "execution_count": 14,
   "metadata": {},
   "outputs": [],
   "source": [
    "df = df.withColumn('new_gender',when(df.gender =='F' ,0).when(df.gender =='M' ,1).otherwise(2))\n",
    "df = df.withColumn('new_level',when(df.level =='free' ,0).when(df.level =='paid' ,1).otherwise(2))\n",
    "# df.length"
   ]
  },
  {
   "cell_type": "code",
   "execution_count": 15,
   "metadata": {},
   "outputs": [
    {
     "name": "stdout",
     "output_type": "stream",
     "text": [
      "+------+------------------+----------+---------+\n",
      "|userId|         avgLength| maxLength|minLength|\n",
      "+------+------------------+----------+---------+\n",
      "|100010|  243.421444909091| 538.85342| 52.27057|\n",
      "|200002|242.91699209302305| 592.06485| 26.56608|\n",
      "|   125|261.13913750000006| 391.26159|178.41587|\n",
      "|    51|247.88055082899118|2594.87302|  4.04853|\n",
      "|   124|248.17653659965674|2369.04444| 18.05016|\n",
      "+------+------------------+----------+---------+\n",
      "only showing top 5 rows\n",
      "\n"
     ]
    }
   ],
   "source": [
    "f_length_df=df.groupby(\"userId\").agg(avg(df.length).alias(\"avgLength\"),max(df.length).alias(\"maxLength\"),min(df.length).alias(\"minLength\"))\n",
    "f_length_df.show(5)"
   ]
  },
  {
   "cell_type": "code",
   "execution_count": 16,
   "metadata": {},
   "outputs": [],
   "source": [
    "songs_count_df=df.select([\"userId\",\"song\"]).distinct().where(df[\"song\"].isNotNull()).groupby([\"userId\"]).count().withColumnRenamed(\"count\",\"songs_count\")\n",
    "session_count_df=df.select([\"userId\",\"sessionId\"]).distinct().where(df[\"sessionId\"].isNotNull()).groupby([\"userId\"]).count().withColumnRenamed(\"count\",\"session_count\")"
   ]
  },
  {
   "cell_type": "code",
   "execution_count": 17,
   "metadata": {},
   "outputs": [
    {
     "data": {
      "text/plain": [
       "225"
      ]
     },
     "execution_count": 17,
     "metadata": {},
     "output_type": "execute_result"
    }
   ],
   "source": [
    "\n",
    "f_page_df=df.groupby([\"userId\",\"page\"]).count().withColumnRenamed(\"count\",\"page_count\").sort(\"userId\")\n",
    "pages = f_page_df.select('page').distinct().rdd.flatMap(lambda x:x).collect()\n",
    "exp = [when(f_page_df.page == p,f_page_df.page_count).otherwise(0).alias(str(p)) for p in pages]\n",
    "f_page_df = f_page_df.select([\"userId\"]+exp)\n",
    "f_page_df = f_page_df.groupby('userId').agg(*[max(col(p)).alias(p) for p in pages])\n",
    "f_page_df.count()"
   ]
  },
  {
   "cell_type": "code",
   "execution_count": 18,
   "metadata": {},
   "outputs": [
    {
     "name": "stdout",
     "output_type": "stream",
     "text": [
      "+------+-----+----------+---------+\n",
      "|userId|churn|new_gender|max_level|\n",
      "+------+-----+----------+---------+\n",
      "|    10|    0|         1|        1|\n",
      "|   100|    0|         1|        1|\n",
      "|100001|    1|         0|        0|\n",
      "|100002|    0|         0|        1|\n",
      "|100003|    1|         0|        0|\n",
      "|100004|    0|         0|        1|\n",
      "|100005|    1|         1|        0|\n",
      "|100006|    1|         0|        0|\n",
      "|100007|    1|         0|        1|\n",
      "|100008|    0|         0|        1|\n",
      "|100009|    1|         1|        1|\n",
      "|100010|    0|         0|        0|\n",
      "|100011|    1|         1|        0|\n",
      "|100012|    1|         1|        1|\n",
      "|100013|    1|         0|        1|\n",
      "|100014|    1|         1|        1|\n",
      "|100015|    1|         0|        1|\n",
      "|100016|    0|         1|        1|\n",
      "|100017|    1|         1|        0|\n",
      "|100018|    0|         1|        1|\n",
      "+------+-----+----------+---------+\n",
      "only showing top 20 rows\n",
      "\n"
     ]
    }
   ],
   "source": [
    "user_item= df.groupby([\"userId\",\"churn\",\"new_gender\"]).agg(max(df.new_level).alias(\"max_level\")).sort(\"userId\")\n",
    "user_item.show()"
   ]
  },
  {
   "cell_type": "code",
   "execution_count": 19,
   "metadata": {},
   "outputs": [],
   "source": [
    "user_item = user_item.join(f_length_df, [\"userId\"], \"left\")\n",
    "user_item = user_item.join(songs_count_df, [\"userId\"], \"left\")\n",
    "user_item = user_item.join(session_count_df, [\"userId\"], \"left\") \n",
    "user_item = user_item.join(f_page_df, [\"userId\"], \"left\")"
   ]
  },
  {
   "cell_type": "code",
   "execution_count": 20,
   "metadata": {},
   "outputs": [
    {
     "data": {
      "text/plain": [
       "225"
      ]
     },
     "execution_count": 20,
     "metadata": {},
     "output_type": "execute_result"
    }
   ],
   "source": [
    "user_item.count()"
   ]
  },
  {
   "cell_type": "code",
   "execution_count": 21,
   "metadata": {},
   "outputs": [
    {
     "data": {
      "text/plain": [
       "DataFrame[userId: string, churn: int, new_gender: int, max_level: int, avgLength: double, maxLength: double, minLength: double, songs_count: bigint, session_count: bigint, Submit Downgrade: bigint, Thumbs Down: bigint, Home: bigint, Downgrade: bigint, Roll Advert: bigint, Logout: bigint, Save Settings: bigint, About: bigint, Settings: bigint, Add to Playlist: bigint, Add Friend: bigint, NextSong: bigint, Thumbs Up: bigint, Help: bigint, Upgrade: bigint, Error: bigint, Submit Upgrade: bigint]"
      ]
     },
     "execution_count": 21,
     "metadata": {},
     "output_type": "execute_result"
    }
   ],
   "source": [
    "user_item.persist()\n",
    "# user_item.show(5)\n",
    "user_item = user_item.select([p for p in user_item.columns if p not in [\"Cancellation Confirmation\",\"Cancel\"]]).sort(\"userId\")\n",
    "# user_item.write.format('csv').option('header',True).mode('overwrite').save(\"user_item.csv\")\n",
    "user_item"
   ]
  },
  {
   "cell_type": "markdown",
   "metadata": {},
   "source": [
    "# Modeling\n",
    "Split the full dataset into train, test, and validation sets. Test out several of the machine learning methods you learned. Evaluate the accuracy of the various models, tuning parameters as necessary. Determine your winning model based on test accuracy and report results on the validation set. Since the churned users are a fairly small subset, I suggest using F1 score as the metric to optimize."
   ]
  },
  {
   "cell_type": "code",
   "execution_count": 22,
   "metadata": {},
   "outputs": [],
   "source": [
    "labelIndexer = StringIndexer(inputCol=\"churn\", outputCol=\"label\").fit(user_item)\n",
    "user_item=VectorAssembler(inputCols=user_item.columns[2:],outputCol=\"indexFeatures\").transform(user_item)\n"
   ]
  },
  {
   "cell_type": "code",
   "execution_count": 23,
   "metadata": {},
   "outputs": [
    {
     "data": {
      "text/plain": [
       "DataFrame[userId: string, churn: int, new_gender: int, max_level: int, avgLength: double, maxLength: double, minLength: double, songs_count: bigint, session_count: bigint, Submit Downgrade: bigint, Thumbs Down: bigint, Home: bigint, Downgrade: bigint, Roll Advert: bigint, Logout: bigint, Save Settings: bigint, About: bigint, Settings: bigint, Add to Playlist: bigint, Add Friend: bigint, NextSong: bigint, Thumbs Up: bigint, Help: bigint, Upgrade: bigint, Error: bigint, Submit Upgrade: bigint, indexFeatures: vector]"
      ]
     },
     "execution_count": 23,
     "metadata": {},
     "output_type": "execute_result"
    }
   ],
   "source": [
    "(trainingData, testData) = user_item.randomSplit([0.7, 0.3], seed=6)\n",
    "trainingData.cache()"
   ]
  },
  {
   "cell_type": "code",
   "execution_count": 24,
   "metadata": {},
   "outputs": [],
   "source": [
    "def rf_model():\n",
    "    rf = RandomForestClassifier(labelCol=\"label\", featuresCol=\"indexFeatures\")\n",
    "    # paramGrid = ParamGridBuilder().build()\n",
    "    paramGrid = ParamGridBuilder().addGrid(rf.numTrees, [1, 3, 5]).addGrid(rf.maxDepth, [3, 5, 7, 10]).addGrid(rf.maxBins, [20, 30, 40]).build()\n",
    "    # Chain indexers and tree in a Pipeline\n",
    "    pipeline = Pipeline(stages=[labelIndexer, rf])\n",
    "\n",
    "    evaluator = MulticlassClassificationEvaluator(metricName='f1')\n",
    "\n",
    "    cv = CrossValidator(estimator=pipeline,\n",
    "                              estimatorParamMaps=paramGrid,\n",
    "                              evaluator=evaluator,\n",
    "                              numFolds=3)\n",
    "    # Train model.  This also runs the indexers.\n",
    "    # model = pipeline.fit(trainingData)\n",
    "    model= cv.fit(trainingData)\n",
    "    bestModel = model.bestModel\n",
    "#     print(bestModel)\n",
    "#     bestCLModel = bestModel.stages[2]\n",
    "    bestModel.write().overwrite().save(\"rf\")\n",
    "#     model.save(\"rf.model\")\n",
    "    # Make predictions.\n",
    "    predictions = model.transform(testData)\n",
    "    return model,predictions,evaluator"
   ]
  },
  {
   "cell_type": "code",
   "execution_count": 25,
   "metadata": {},
   "outputs": [
    {
     "data": {
      "text/plain": [
       "0.6732454449669777"
      ]
     },
     "execution_count": 25,
     "metadata": {},
     "output_type": "execute_result"
    }
   ],
   "source": [
    "if os.path.exists(\"rf\"):\n",
    "    persistedModel = PipelineModel.load(\"rf\")\n",
    "    evaluator = MulticlassClassificationEvaluator(metricName='f1')\n",
    "    predictions = persistedModel.transform(testData)\n",
    "else:\n",
    "    rf_model,predictions,evaluator = rf_model()\n",
    "F1_score = evaluator.evaluate(predictions,{evaluator.metricName: \"f1\"})\n",
    "F1_score"
   ]
  },
  {
   "cell_type": "code",
   "execution_count": 32,
   "metadata": {},
   "outputs": [],
   "source": [
    "def lr_model():\n",
    "    lr = LogisticRegression(labelCol=\"label\", featuresCol=\"indexFeatures\")\n",
    "    paramGrid = ParamGridBuilder() \\\n",
    "        .addGrid(lr.elasticNetParam,[0.1, 1.0]) \\\n",
    "        .addGrid(lr.regParam,[0.0, 0.05]) \\\n",
    "        .build()\n",
    "    # paramGrid = ParamGridBuilder().build()\n",
    "    # Chain indexers and tree in a Pipeline\n",
    "    pipeline = Pipeline(stages=[labelIndexer, lr])\n",
    "    evaluator = MulticlassClassificationEvaluator(metricName='f1')\n",
    "    cv = CrossValidator(estimator=pipeline,\n",
    "                              estimatorParamMaps=paramGrid,\n",
    "                              evaluator=evaluator,\n",
    "                              numFolds=2)\n",
    "    # Train model.  This also runs the indexers.\n",
    "    model= cv.fit(trainingData)\n",
    "    bestModel = model.bestModel\n",
    "    bestModel.write().overwrite().save(\"lr\")\n",
    "    # Make predictions.\n",
    "    predictions = model.transform(testData)\n",
    "    return model,predictions,evaluator\n"
   ]
  },
  {
   "cell_type": "code",
   "execution_count": 33,
   "metadata": {},
   "outputs": [
    {
     "data": {
      "text/plain": [
       "0.7005217005217005"
      ]
     },
     "execution_count": 33,
     "metadata": {},
     "output_type": "execute_result"
    }
   ],
   "source": [
    "if os.path.exists(\"lr\"):\n",
    "    persistedModel = PipelineModel.load(\"lr\")\n",
    "    evaluator = MulticlassClassificationEvaluator(metricName='f1')\n",
    "    predictions = persistedModel.transform(testData)\n",
    "else:\n",
    "    lr_model,predictions,evaluator = lr_model()\n",
    "F1_score = evaluator.evaluate(predictions,{evaluator.metricName: \"f1\"})\n",
    "F1_score"
   ]
  },
  {
   "cell_type": "code",
   "execution_count": 28,
   "metadata": {},
   "outputs": [],
   "source": [
    "def dt_model():\n",
    "    dt = DecisionTreeClassifier(labelCol=\"label\", featuresCol=\"indexFeatures\")\n",
    "    paramGrid = ParamGridBuilder() \\\n",
    "        .addGrid(dt.impurity,['entropy', 'gini']) \\\n",
    "        .addGrid(dt.maxDepth,[2,4,6,8]) \\\n",
    "        .build()\n",
    "    # paramGrid = ParamGridBuilder().build()\n",
    "    # paramGrid = ParamGridBuilder().addGrid(rf.numTrees, [1, 3, 5]).addGrid(rf.maxDepth, [3, 5, 7, 10]).addGrid(rf.maxBins, [20, 30, 40]).build()\n",
    "    # Chain indexers and tree in a Pipeline\n",
    "    pipeline = Pipeline(stages=[labelIndexer, dt])\n",
    "    evaluator = MulticlassClassificationEvaluator(metricName='f1')\n",
    "    cv = CrossValidator(estimator=pipeline,\n",
    "                              estimatorParamMaps=paramGrid,\n",
    "                              evaluator=evaluator,\n",
    "                              numFolds=3)\n",
    "    # Train model.  This also runs the indexers.\n",
    "    # model = pipeline.fit(trainingData)\n",
    "    model= cv.fit(trainingData)\n",
    "    bestModel = model.bestModel\n",
    "    bestModel.write().overwrite().save(\"dt\")\n",
    "#     model.save(\"lr.model\")\n",
    "    # Make predictions.\n",
    "    predictions = model.transform(testData)\n",
    "    return model,predictions,evaluator\n"
   ]
  },
  {
   "cell_type": "code",
   "execution_count": 29,
   "metadata": {},
   "outputs": [
    {
     "data": {
      "text/plain": [
       "0.6554334554334554"
      ]
     },
     "execution_count": 29,
     "metadata": {},
     "output_type": "execute_result"
    }
   ],
   "source": [
    "if os.path.exists(\"dt\"):\n",
    "    persistedModel = PipelineModel.load(\"dt\")\n",
    "    evaluator = MulticlassClassificationEvaluator(metricName='f1')\n",
    "    predictions = persistedModel.transform(testData)\n",
    "else:\n",
    "    dt_model,predictions,evaluator = dt_model()\n",
    "F1_score = evaluator.evaluate(predictions,{evaluator.metricName: \"f1\"})\n",
    "F1_score"
   ]
  },
  {
   "cell_type": "markdown",
   "metadata": {},
   "source": [
    "# Result evaluation \n",
    "Here we chose RandomForest, LogisticRegression, DecisionTree as classifiers, F1-score as matrix for evaluation,the F1-score are 0.6732,0.7005,0.6554.Therefore LogisticRegression performed the best among these three models, the best parameter list of lr_model is:\n",
    "{Param(parent='LogisticRegression_c813d1006a3e', name='aggregationDepth', doc='suggested depth for treeAggregate (>= 2)'): 2, Param(parent='LogisticRegression_c813d1006a3e', name='elasticNetParam', doc='the ElasticNet mixing parameter, in range [0, 1]. For alpha = 0, the penalty is an L2 penalty. For alpha = 1, it is an L1 penalty'): 1.0, Param(parent='LogisticRegression_c813d1006a3e', name='family', doc='The name of family which is a description of the label distribution to be used in the model. Supported options: auto, binomial, multinomial.'): 'auto', Param(parent='LogisticRegression_c813d1006a3e', name='featuresCol', doc='features column name'): 'indexFeatures', Param(parent='LogisticRegression_c813d1006a3e', name='fitIntercept', doc='whether to fit an intercept term'): True, Param(parent='LogisticRegression_c813d1006a3e', name='labelCol', doc='label column name'): 'label', Param(parent='LogisticRegression_c813d1006a3e', name='maxIter', doc='maximum number of iterations (>= 0)'): 100, Param(parent='LogisticRegression_c813d1006a3e', name='predictionCol', doc='prediction column name'): 'prediction', Param(parent='LogisticRegression_c813d1006a3e', name='probabilityCol', doc='Column name for predicted class conditional probabilities. Note: Not all models output well-calibrated probability estimates! These probabilities should be treated as confidences, not precise probabilities'): 'probability', Param(parent='LogisticRegression_c813d1006a3e', name='rawPredictionCol', doc='raw prediction (a.k.a. confidence) column name'): 'rawPrediction', Param(parent='LogisticRegression_c813d1006a3e', name='regParam', doc='regularization parameter (>= 0)'): 0.05, Param(parent='LogisticRegression_c813d1006a3e', name='standardization', doc='whether to standardize the training features before fitting the model'): True, Param(parent='LogisticRegression_c813d1006a3e', name='threshold', doc='threshold in binary classification prediction, in range [0, 1]'): 0.5, Param(parent='LogisticRegression_c813d1006a3e', name='tol', doc='the convergence tolerance for iterative algorithms (>= 0)'): 1e-06}  \n",
    "\n",
    "These three classifiers had similar F1-score. RandomForest could be a good option because it has faster training speed compare with others, in order to have a better performance, paramGrids were used for each classifier.For RandomForest: rf.numTrees, [1, 3, 5] rf.maxDepth, [3, 5, 7, 10]rf.maxBins, [20, 30, 40]. For LogisticRegression: lr.elasticNetParam,[0.1, 1.0] lr.regParam,[0.0, 0.05]. For DecisionTree: dt.impurity,['entropy', 'gini'] dt.maxDepth,[2,4,6,8] were used for model tuning.\n",
    "    "
   ]
  },
  {
   "cell_type": "markdown",
   "metadata": {},
   "source": [
    "# Conclusion\n",
    "\n",
    "The target was identifying churn user timely and to take actions. Now through this model we can predict if a user might churn according to some features e.g. avgLength,maxLength,minLength,songs_count,session_count,page interactions. Spakify could develop a music recommandation system to analyze user behavior at backend and promoted songs based on individual favorite.\n",
    "\n",
    "To improve the accuracy further, based on current parameters we can add more hyper-parameters in paramGrid as well as more features in feature engineering step to increase accuracy. "
   ]
  }
 ],
 "metadata": {
  "kernelspec": {
   "display_name": "Python 3",
   "language": "python",
   "name": "python3"
  },
  "language_info": {
   "codemirror_mode": {
    "name": "ipython",
    "version": 3
   },
   "file_extension": ".py",
   "mimetype": "text/x-python",
   "name": "python",
   "nbconvert_exporter": "python",
   "pygments_lexer": "ipython3",
   "version": "3.6.3"
  }
 },
 "nbformat": 4,
 "nbformat_minor": 2
}
